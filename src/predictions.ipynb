{
 "cells": [
  {
   "cell_type": "markdown",
   "metadata": {},
   "source": [
    "### Analyze the predictions"
   ]
  },
  {
   "cell_type": "code",
   "execution_count": 4,
   "metadata": {},
   "outputs": [
    {
     "name": "stdout",
     "output_type": "stream",
     "text": [
      "(2766, 3)\n"
     ]
    }
   ],
   "source": [
    "# Read npy file \n",
    "\n",
    "import numpy as np\n",
    "\n",
    "# Read npy file\n",
    "predictions = np.load('../results/Electricity/zscore/24/3/ML/lr/0.npy')\n",
    "\n",
    "# Print predictions\n",
    "print(predictions.shape)"
   ]
  },
  {
   "cell_type": "code",
   "execution_count": 2,
   "metadata": {},
   "outputs": [
    {
     "name": "stdout",
     "output_type": "stream",
     "text": [
      "TRAINING DATA\n",
      "Input shape: (11174, 24, 4)\n",
      "Output shape: (11174, 3)\n",
      "\n",
      "TEST DATA\n",
      "Input shape: (2766, 24, 4)\n",
      "Output shape: (2766, 3)\n"
     ]
    }
   ],
   "source": [
    "from models import rf\n",
    "from preprocessing import read_data\n",
    "\n",
    "# Read data\n",
    "x_train, y_train, x_test, y_test, y_test_denorm, norm_params = read_data('../data/electricSystem/electricity_train.csv', 24, 3, \"Precio\", 12)"
   ]
  },
  {
   "cell_type": "code",
   "execution_count": 12,
   "metadata": {},
   "outputs": [
    {
     "name": "stdout",
     "output_type": "stream",
     "text": [
      "[0.25318864 0.22990657 0.26437916 0.25252563]\n"
     ]
    }
   ],
   "source": [
    "# Create dict with params \n",
    "rf_regressor = rf([300, 10, 4, 1])\n",
    "\n",
    "# Train model\n",
    "rf_regressor.fit(x_train[:,0], y_train)\n"
   ]
  },
  {
   "cell_type": "code",
   "execution_count": 13,
   "metadata": {},
   "outputs": [
    {
     "data": {
      "text/plain": [
       "4"
      ]
     },
     "execution_count": 13,
     "metadata": {},
     "output_type": "execute_result"
    }
   ],
   "source": [
    "rf_regressor.n_features_in_"
   ]
  },
  {
   "cell_type": "code",
   "execution_count": 15,
   "metadata": {},
   "outputs": [
    {
     "data": {
      "text/plain": [
       "(11174, 24, 4)"
      ]
     },
     "execution_count": 15,
     "metadata": {},
     "output_type": "execute_result"
    }
   ],
   "source": [
    "x_train.shape"
   ]
  },
  {
   "cell_type": "code",
   "execution_count": null,
   "metadata": {},
   "outputs": [],
   "source": []
  }
 ],
 "metadata": {
  "kernelspec": {
   "display_name": "Python 3",
   "language": "python",
   "name": "python3"
  },
  "language_info": {
   "codemirror_mode": {
    "name": "ipython",
    "version": 3
   },
   "file_extension": ".py",
   "mimetype": "text/x-python",
   "name": "python",
   "nbconvert_exporter": "python",
   "pygments_lexer": "ipython3",
   "version": "3.10.12"
  }
 },
 "nbformat": 4,
 "nbformat_minor": 2
}
